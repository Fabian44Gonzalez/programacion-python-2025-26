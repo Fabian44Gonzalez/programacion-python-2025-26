{
 "cells": [
  {
   "cell_type": "markdown",
   "metadata": {},
   "source": [
    "# Ejercicios estructuras selectivas\n",
    "\n",
    "## Ruta\n",
    "Si acabas de empezar a programar, intenta hacer, como mínimo, los ejercicios del 1 al 8. Después intenta el 9 y el 11.\n",
    "\n",
    "Si ya tienes algo de experiencia programando, puedes empezar en el ejercicio 10.\n",
    "\n",
    "## Ejercicio 1\n",
    "\n",
    "Implementa un programa en Python que pida por teclado un número entero y que indique si es par (si es impar, no muestra nada).\n"
   ]
  },
  {
   "cell_type": "code",
   "execution_count": 13,
   "metadata": {},
   "outputs": [
    {
     "name": "stdout",
     "output_type": "stream",
     "text": [
      "Es par\n"
     ]
    }
   ],
   "source": [
    "num = int(input(\"Dame un número\"))\n",
    "\n",
    "if num % 2 == 0:\n",
    "    print(\"Es par\")"
   ]
  },
  {
   "cell_type": "markdown",
   "metadata": {},
   "source": [
    "## Ejercicio 2\n",
    "\n",
    "Modifica el programa para que indique si es par o impar."
   ]
  },
  {
   "cell_type": "code",
   "execution_count": 12,
   "metadata": {},
   "outputs": [
    {
     "name": "stdout",
     "output_type": "stream",
     "text": [
      "Es impar\n"
     ]
    }
   ],
   "source": [
    "num = int(input(\"Dame un número\"))\n",
    "\n",
    "if num % 2 == 0:\n",
    "    print(\"Es par\")\n",
    "else:\n",
    "    print(\"Es impar\")"
   ]
  },
  {
   "cell_type": "markdown",
   "metadata": {},
   "source": [
    "## Ejercicio 3\n",
    "\n",
    "Implementa un programa en Python que pida dos números por teclado y que muestre por pantalla al menor de los dos (suponemos que no pueden ser iguales).\n"
   ]
  },
  {
   "cell_type": "code",
   "execution_count": 27,
   "metadata": {},
   "outputs": [
    {
     "name": "stdout",
     "output_type": "stream",
     "text": [
      "-5\n"
     ]
    }
   ],
   "source": [
    "num1 = int(input(\"Dame el primer número\"))\n",
    "num2 = int(input(\"Dame el segundo número\"))\n",
    "\n",
    "if num1 > num2:\n",
    "    print(num2)\n",
    "else:\n",
    "    print(num1)"
   ]
  },
  {
   "cell_type": "markdown",
   "metadata": {},
   "source": [
    "## Ejercicio 4\n",
    "\n",
    "Implementa un programa en Python que pida un número por teclado y que muestre por pantalla un mensaje indicando si es o no negativo. El 0 no es negativo."
   ]
  },
  {
   "cell_type": "code",
   "execution_count": 34,
   "metadata": {},
   "outputs": [
    {
     "name": "stdout",
     "output_type": "stream",
     "text": [
      "Es positivo\n"
     ]
    }
   ],
   "source": [
    "num1 = int(input(\"Dame un número\"))\n",
    "\n",
    "if num1 >= 0:\n",
    "    print(\"Es positivo\")\n",
    "else:\n",
    "    print(\"Es negativo\")"
   ]
  },
  {
   "cell_type": "markdown",
   "metadata": {},
   "source": [
    "## Ejercicio 5\n",
    "\n",
    "Implementa un programa en Python que pida tres números por teclado y muestre por pantalla el mayor de los tres.\n",
    "\n",
    "**VERSIÓN AVANZADA**: Busca información sobre la función `max()` e intenta resolverlo con ella (no necesitarás estructuras selectivas). Busca también la función `min()` y muestra el mayor y el menor de ellos."
   ]
  },
  {
   "cell_type": "code",
   "execution_count": 37,
   "metadata": {},
   "outputs": [
    {
     "name": "stdout",
     "output_type": "stream",
     "text": [
      "El mayor de los tres es: 10\n"
     ]
    }
   ],
   "source": [
    "num1 = int(input(\"Dame el primer número\"))\n",
    "num2 = int(input(\"Dame el segundo número\"))\n",
    "num3 = int(input(\"Dame el tercer número\"))\n",
    "\n",
    "if num1 > num2 and num1 > num3:\n",
    "    print(\"El mayor de los tres es:\", num1)\n",
    "elif num2 > num1 and num2 > num3:\n",
    "    print(\"El mayor de los tres es:\", num2)\n",
    "else:\n",
    "    print(\"El mayor de los tres es:\", num3)"
   ]
  },
  {
   "cell_type": "code",
   "execution_count": null,
   "metadata": {},
   "outputs": [
    {
     "name": "stdout",
     "output_type": "stream",
     "text": [
      "10\n"
     ]
    }
   ],
   "source": [
    "num1 = int(input(\"Dame el primer número\"))\n",
    "num2 = int(input(\"Dame el segundo número\"))\n",
    "num3 = int(input(\"Dame el tercer número\"))\n",
    "\n",
    "mayor = max(num1, num1, num3)\n",
    "\n",
    "print(\"El mayor de los tres es:\", mayor)"
   ]
  },
  {
   "cell_type": "markdown",
   "metadata": {},
   "source": [
    "\n",
    "## Ejercicio 6\n",
    "\n",
    "Modifica el ejercicio 4 para que indique si el número es positivo, negativo o cero."
   ]
  },
  {
   "cell_type": "code",
   "execution_count": 46,
   "metadata": {},
   "outputs": [
    {
     "name": "stdout",
     "output_type": "stream",
     "text": [
      "Es cero\n"
     ]
    }
   ],
   "source": [
    "num1 = int(input(\"Dame un número\"))\n",
    "\n",
    "if num1 > 0:\n",
    "    print(\"Es positivo\")\n",
    "elif num1 < 0:\n",
    "    print(\"Es negativo\")\n",
    "else:\n",
    "    print(\"Es cero\")"
   ]
  },
  {
   "cell_type": "markdown",
   "metadata": {},
   "source": [
    "## Ejercicio 7\n",
    "\n",
    "Implementa un programa en Python que pida un número del 1 al 12 por teclado y que muestre por pantalla el nombre del mes correspondiente.\n"
   ]
  },
  {
   "cell_type": "code",
   "execution_count": 78,
   "metadata": {},
   "outputs": [
    {
     "name": "stdout",
     "output_type": "stream",
     "text": [
      "Número incorrecto\n"
     ]
    }
   ],
   "source": [
    "num = int(input(\"Dame un número del 1 al 12\"))\n",
    "\n",
    "if num == 1:\n",
    "    print(\"Enero\")\n",
    "elif num == 2:\n",
    "    print(\"Febrero\")\n",
    "elif num == 3:\n",
    "    print(\"Marzo\")\n",
    "elif num == 4:\n",
    "    print(\"Abril\")\n",
    "elif num == 5:\n",
    "    print(\"Mayo\")\n",
    "elif num == 6:\n",
    "    print(\"Junio\")\n",
    "elif num == 7:\n",
    "    print(\"Julio\")\n",
    "elif num == 8:\n",
    "    print(\"Agosto\")\n",
    "elif num == 9:\n",
    "    print(\"Septiembre\")\n",
    "elif num == 10:\n",
    "    print(\"Octubre\")\n",
    "elif num == 11:\n",
    "    print(\"Noviembre\")\n",
    "elif num == 12:\n",
    "    print(\"Diciembre\")\n",
    "else:\n",
    "    print(\"Número incorrecto\")"
   ]
  },
  {
   "cell_type": "markdown",
   "metadata": {},
   "source": [
    "## Ejercicio 8\n",
    "\n",
    "Implementa un programa en Python para mostrar por pantalla la calificación de una nota a partir de la puntuación introducida por teclado:\n",
    "\n",
    "- [0,5) Suspenso\n",
    "- [5,6) Aprobado\n",
    "- [6,7) Bien\n",
    "- [7,9) Notable\n",
    "- [9,10] Sobresaliente\n"
   ]
  },
  {
   "cell_type": "code",
   "execution_count": null,
   "metadata": {},
   "outputs": [
    {
     "name": "stdout",
     "output_type": "stream",
     "text": [
      "Introduce un valor entre 0 y 10\n"
     ]
    }
   ],
   "source": [
    "num = float(input(\"Dime cual es la nota (0-10)\"))\n",
    "\n",
    "if num >= 0 and num < 5:\n",
    "    print(\"Suspenso\")\n",
    "elif num >= 5 and num < 6:\n",
    "    print(\"Aprobado\")\n",
    "elif num >= 6 and num < 7:\n",
    "    print(\"Bien\")\n",
    "elif num >= 7 and num < 9:\n",
    "    print(\"Notable\")\n",
    "elif num >= 9 and num <= 10:\n",
    "    print(\"Sobresaliente\")\n",
    "else:\n",
    "    print(\"Introduce un valor entre 0 y 10\")"
   ]
  },
  {
   "cell_type": "markdown",
   "metadata": {},
   "source": [
    "## Ejercicio 9\n",
    "\n",
    "Tu ordenador es *fan* de la serie *Game of Thrones* y no admite discusión al respeto, además, es muy purista y solo admite el título original.\n",
    "\n",
    "Crea un programa que pregunte al usuario cuál es su serie favorita y responda lo siguiente, según la contestación del usuario:\n",
    "\n",
    "- Si el usuario contesta “Game of Thrones” el ordenador responderá: `“Por supuesto, Game of Thrones es la mejor serie de la historia!”`\n",
    "- Si el usuario responde “Juego de Tronos” el ordenador responderá: `“No se dice \\<entrada\\>, se dice Game of Thrones”`\n",
    "- En caso contrario, responderá: `“No, la mejor es Game of Thrones!”`\n",
    "\n",
    "**VERSIÓN AVANZADA**: Busca información sobre los métodos `lower()` y `upper()` para poder contestar lo mismo independientemente de cómo el usuario combine mayúsculas y minúsculas."
   ]
  },
  {
   "cell_type": "code",
   "execution_count": null,
   "metadata": {},
   "outputs": [
    {
     "name": "stdout",
     "output_type": "stream",
     "text": [
      "No, la mejor es Game of Thrones!\n"
     ]
    }
   ],
   "source": [
    "serie = input(\"Dime cual es la nota (0-10)\")\n",
    "\n",
    "if serie == \"Game of Thrones\":\n",
    "    print(\"Por supuesto, Game of Thrones es la mejor serie de la historia!\")\n",
    "elif serie == \"Juego de Tronos\":\n",
    "    print(\"No se dice \", serie, \", se dice Game of Thrones\", sep=\"\")\n",
    "else:\n",
    "    print(\"No, la mejor es Game of Thrones!\")"
   ]
  },
  {
   "cell_type": "code",
   "execution_count": null,
   "metadata": {},
   "outputs": [
    {
     "name": "stdout",
     "output_type": "stream",
     "text": [
      "Por supuesto, Game of Thrones es la mejor serie de la historia!\n"
     ]
    }
   ],
   "source": [
    "serie = input(\"Dime cual es la nota (0-10)\")\n",
    "serie_mayusculas = serie.lower()\n",
    "\n",
    "if serie_mayusculas == \"game of thrones\":\n",
    "    print(\"Por supuesto, Game of Thrones es la mejor serie de la historia!\")\n",
    "elif serie_mayusculas == \"juego de tronos\":\n",
    "    print(\"No se dice \", serie_mayusculas, \", se dice Game of Thrones\", sep=\"\")\n",
    "else:\n",
    "    print(\"No, la mejor es Game of Thrones!\")"
   ]
  },
  {
   "cell_type": "code",
   "execution_count": 72,
   "metadata": {},
   "outputs": [
    {
     "name": "stdout",
     "output_type": "stream",
     "text": [
      "Por supuesto, Game of Thrones es la mejor serie de la historia!\n"
     ]
    }
   ],
   "source": [
    "serie = input(\"Dime cual es la nota (0-10)\")\n",
    "serie_mayusculas = serie.upper()\n",
    "\n",
    "if serie_mayusculas == \"GAME OF THRONES\":\n",
    "    print(\"Por supuesto, Game of Thrones es la mejor serie de la historia!\")\n",
    "elif serie_mayusculas == \"JUEGO DE TRONOS\":\n",
    "    print(\"No se dice \", serie_mayusculas, \", se dice Game of Thrones\", sep=\"\")\n",
    "else:\n",
    "    print(\"No, la mejor es Game of Thrones!\")"
   ]
  },
  {
   "cell_type": "markdown",
   "metadata": {},
   "source": [
    "## Ejercicio 10\n",
    "\n",
    "Implementa un programa en Python que pida un año por teclado y que indique si es bisiesto o no.\n",
    "\n",
    "Si el año no es divisible entre cuatro, no es bisiesto.\n",
    "- En caso contrario, si el año no es divisible entre 100, es bisiesto.\n",
    "- En caso contrario, si el año no es divisible entre 400, no es bisiesto.\n",
    "- En caso contrario, es bisesto.\n",
    "Emplea la construcción `if-elif-else`.\n",
    "\n",
    "**VERSIÓN AVANZADA**: ¿Serías capaz de hacerlo solamente con un `if-else` y una única condición?\n",
    "\n",
    "|Ano|\tResultado|\n",
    "|-|-|\n",
    "|2000|\tBisiesto|\n",
    "|2015|\tNo bisiesto|\n",
    "|1999|\tNo bisiesto|\n",
    "|1996|\tBisiesto|\n",
    "|1900|\tNo bisiesto|\n"
   ]
  },
  {
   "cell_type": "code",
   "execution_count": 77,
   "metadata": {},
   "outputs": [
    {
     "name": "stdout",
     "output_type": "stream",
     "text": [
      "No es bisiesto\n"
     ]
    }
   ],
   "source": [
    "año = int(input(\"Dime un año: \"))\n",
    "\n",
    "if (año % 4 != 0):\n",
    "    print(\"No es bisiesto\")\n",
    "elif (año % 100 != 0):\n",
    "    print(\"Es bisiesto\")\n",
    "elif (año % 400 != 0):\n",
    "    print(\"No es bisiesto\")\n",
    "else:\n",
    "    print(\"Es bisiesto\")"
   ]
  },
  {
   "cell_type": "code",
   "execution_count": 94,
   "metadata": {},
   "outputs": [
    {
     "name": "stdout",
     "output_type": "stream",
     "text": [
      "No es bisiesto\n"
     ]
    }
   ],
   "source": [
    "año = int(input(\"Dime un año\"))\n",
    "if (año % 4 != 0 or (año % 100 == 0 and año % 400 != 0)):\n",
    "    print(\"No es bisiesto\")\n",
    "else: \n",
    "    print(\"Es bisiesto\")"
   ]
  },
  {
   "cell_type": "markdown",
   "metadata": {},
   "source": [
    "# Ejercicios de estructuras selectivas y operadores"
   ]
  },
  {
   "cell_type": "markdown",
   "metadata": {},
   "source": [
    "## Ejercicio 11\n",
    "\n",
    "Había una vez una tierra próspera y feliz. La gente pagaba impuestos, por supuesto, la felicidad tenía límites. Estos impuestos se pagaban una vez al año segundo los siguientes criterios:\n",
    "- Si la persona no cobraba más de 85528 thalers, el impuesto era el 18% de las ganancias menos 556,02 thalers.\n",
    "- Si las ganancias eran mayores, el impuesto era 14839,02 thalers sumados a un 32% del exceso de las ganancias por encima de los 85528 thalers.\n",
    "\n",
    "Debe aceptar un valor real y mostrar el cálculo del impuesto sin decimales. El gobierno de este país nunca devuelve dinero a sus habitantes, por lo que se el valor del impuesto es negativo, deberá indicar 0.\n",
    "\n",
    "|Ganancias|\tImpuesto|\n",
    "|-|-|\n",
    "|10000 thalers|\t1244 thalers|\n",
    "|100000 thalers|\t19470 thalers|\n",
    "|1000 thalers|\t0 thalers|\n",
    "|100 thalers|\t0 thalers|\n"
   ]
  },
  {
   "cell_type": "code",
   "execution_count": 84,
   "metadata": {},
   "outputs": [
    {
     "name": "stdout",
     "output_type": "stream",
     "text": [
      "El impuesto es 19470\n"
     ]
    }
   ],
   "source": [
    "LIMITE_GANANCIAS = 85528\n",
    "\n",
    "ganancias = int(input(\"Indica tus ganancias (en thalers): \"))\n",
    "if ganancias <= LIMITE_GANANCIAS:\n",
    "    impuesto = 0.18 * ganancias - 556.02\n",
    "else:\n",
    "    impuesto = 14839.02 + 0.32 * (ganancias - LIMITE_GANANCIAS)\n",
    "\n",
    "if impuesto < 0:\n",
    "    print(\"No tienes que pagar impuestos\")\n",
    "else:\n",
    "    print(\"El impuesto es\", round(impuesto))"
   ]
  },
  {
   "cell_type": "markdown",
   "metadata": {},
   "source": [
    "## Ejercicio 12\n",
    "\n",
    "Crea una calculadora del mundo mágico de Harry Potter, que convirta galeones, sickels y knuts. Debe ofrecer inicialmente un menú en el que se indiquen las siguientes opciones:\n",
    "- Conversión de galeones a sickels.\n",
    "- Conversión de galeones a knuts.\n",
    "- Conversión de sickles a knuts.\n",
    "- Conversión de knuts a galeones, sickles y knuts (mínimo número de monedas posibles).\n",
    "\n",
    "Recuerda que:\n",
    "- 1 galeón = 17 sickles\n",
    "- 1 sickle = 29 knuts\n",
    "\n",
    "**DATOS DE PRUEBA**\n",
    "|Galeones|Sickles|Knuts|\n",
    "|-|-|-|\n",
    "|10 galeones|170 sickles|4930knuts|\n",
    "|45 galeones|765 sickles|22185knuts|\n",
    "\n",
    "Opción 4\n",
    "\n",
    "|knuts|galeones, sicles, knuts|\n",
    "|-|-|\n",
    "|1000 knuts|2 galeones, 0 sickles y 14 knuts|\n",
    "|36786 knuts|74 galeones,  10 sickles y 14 knuts|\n"
   ]
  },
  {
   "cell_type": "code",
   "execution_count": 102,
   "metadata": {},
   "outputs": [
    {
     "name": "stdout",
     "output_type": "stream",
     "text": [
      "\n",
      "      1. Conversión de galeones a sickels.\n",
      "      2. Conversión de galeones a knuts.\n",
      "      3. Conversión de sickles a knuts.\n",
      "      4. Conversión de knuts a galeones, sickles y knuts (mínimo número de monedas posibles).\n",
      "Son 2 galeones,  0 sickles y 14 knuts.\n"
     ]
    }
   ],
   "source": [
    "GALEONES_A_SICKELS = 17\n",
    "SICKELS_A_KNUTS = 29\n",
    "GALEONES_A_KNUTS = GALEONES_A_SICKELS * SICKELS_A_KNUTS\n",
    "\n",
    "print('''\n",
    "      1. Conversión de galeones a sickels.\n",
    "      2. Conversión de galeones a knuts.\n",
    "      3. Conversión de sickles a knuts.\n",
    "      4. Conversión de knuts a galeones, sickles y knuts (mínimo número de monedas posibles).''')\n",
    "\n",
    "opcion = input(\"Escoge una opción (Número de 1-4): \")\n",
    "\n",
    "if opcion == '1':\n",
    "    galeones = int(input(\"Indica cuántos galeones quieres convertir: \"))\n",
    "    sickles = galeones * GALEONES_A_SICKELS\n",
    "    print(galeones, \"galeones son \", sickles, \"sickles.\")\n",
    "\n",
    "elif opcion == '2':\n",
    "    galeones = int(input(\"Indica cuántos galeones quieres convertir: \"))\n",
    "    knuts = galeones * GALEONES_A_SICKELS * SICKELS_A_KNUTS\n",
    "    print(galeones, \"galeones son \", knuts, \"knuts\")\n",
    "\n",
    "elif opcion == '3':\n",
    "    sickles = int(input(\"Indica cuántos sickels quieres convertir: \"))\n",
    "    knuts = sickles * SICKELS_A_KNUTS\n",
    "    print(sickles, \"sikles son \", knuts, \"knuts\")\n",
    "\n",
    "elif opcion == '4':\n",
    "    knuts = int(input(\"Indica cuántos knuts quieres convertir:\"))\n",
    "    galeones = knuts // GALEONES_A_KNUTS\n",
    "    knuts = knuts % GALEONES_A_KNUTS\n",
    "    sickles = knuts // SICKELS_A_KNUTS\n",
    "    knuts = knuts % SICKELS_A_KNUTS\n",
    "    print (\"Son\", galeones, \"galeones, \", sickles, \"sickles y\", knuts, \"knuts.\")\n",
    "\n",
    "else:\n",
    "    print(\"Opción incorrecta\")"
   ]
  },
  {
   "cell_type": "markdown",
   "metadata": {},
   "source": [
    "## Ejercicio 13\n",
    "\n",
    "Implementa un programa en Python que pida el día, mes y año de una fecha correcta y muestre la fecha del día siguiente. Supón que todos los meses tienen 30 días.\n",
    "\n",
    "**VERSIÓN AVANZADA**: Intenta utilizar la operación módulo."
   ]
  },
  {
   "cell_type": "code",
   "execution_count": null,
   "metadata": {},
   "outputs": [
    {
     "name": "stdout",
     "output_type": "stream",
     "text": [
      "1-1-2000\n"
     ]
    }
   ],
   "source": [
    "dia = int(input(\"Dime el día\"))\n",
    "mes = int(input(\"Dime el mes\"))\n",
    "año = int(input(\"Dime el año\"))\n",
    "\n",
    "if (dia < 30) and (mes <= 12): #Cambia solo el dia\n",
    "    print(dia + 1, mes, año, sep=\"-\")\n",
    "elif (dia == 30) and (mes < 12): #Cambia el mes\n",
    "    print(1, mes + 1, año, sep=\"-\")\n",
    "elif (dia == 30) and (mes == 12): #Cambio de año\n",
    "    print(1, 1, año + 1, sep=\"-\")\n",
    "else:\n",
    "    print(\"valor de fecha inválido\")"
   ]
  },
  {
   "cell_type": "markdown",
   "metadata": {},
   "source": [
    "## Ejercicio 14\n",
    "\n",
    "Implementa un programa en Python que pida un día de la semana y devuelva si es o no fin de semana. Si introduce cualquier cadena que no sea un día de la semana deberá mostrar un error."
   ]
  },
  {
   "cell_type": "markdown",
   "metadata": {},
   "source": [
    "## Ejercicio 15\n",
    "\n",
    "Repite el ejercicio 8 (conversión de notas) utilizando la sentencia `match-case`. Las notas serán únicamente números enteros."
   ]
  }
 ],
 "metadata": {
  "kernelspec": {
   "display_name": "Python 3",
   "language": "python",
   "name": "python3"
  },
  "language_info": {
   "codemirror_mode": {
    "name": "ipython",
    "version": 3
   },
   "file_extension": ".py",
   "mimetype": "text/x-python",
   "name": "python",
   "nbconvert_exporter": "python",
   "pygments_lexer": "ipython3",
   "version": "3.13.7"
  },
  "orig_nbformat": 4
 },
 "nbformat": 4,
 "nbformat_minor": 2
}
