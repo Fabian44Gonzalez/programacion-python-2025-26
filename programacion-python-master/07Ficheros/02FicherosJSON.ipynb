{
 "cells": [
  {
   "cell_type": "markdown",
   "id": "3a55ff9e",
   "metadata": {},
   "source": [
    "\n",
    "# Lectura y escritura de archivos JSON\n",
    "\n",
    "JSON es un formato de intercambio de datos que tiene una estructura similar a la de los diccionarios de Python o diccionarios que en algunos casos tienen por valor otra lista de diccionarios. Por ejemplo, el siguiente diccionario de Python:\n",
    "\n",
    "```python\n",
    "{\n",
    "    \"nombre\": \"Ana\",\n",
    "    \"edad\": 30,\n",
    "    \"hijos\": None,\n",
    "    \"mascotas\": [\n",
    "        {\"nombre\": \"Laika\", \"edad\": 3},\n",
    "        {\"nombre\": \"Rayo\", \"edad\": 5}\n",
    "    ]\n",
    "}\n",
    "```\n",
    "\n",
    "Se puede representar en JSON de la siguiente manera:\n",
    "\n",
    "```json\n",
    "{\n",
    "    \"nombre\": \"Ana\",\n",
    "    \"edad\": 30,\n",
    "    \"hijos\": null,\n",
    "    \"mascotas\": [\n",
    "        {\"nombre\": \"Laika\", \"edad\": 3},\n",
    "        {\"nombre\": \"Rayo\", \"edad\": 5}\n",
    "    ]\n",
    "}\n",
    "```\n"
   ]
  },
  {
   "cell_type": "markdown",
   "id": "ebbe1f37",
   "metadata": {},
   "source": [
    "Este tipo de ficheros resultan muy cómodos para almacenar e intercambiar la información de nuestra aplicación.\n",
    "\n",
    "En Python podemos leer y escribir ficheros JSON de una manera muy sencilla gracias al módulo `json`."
   ]
  },
  {
   "cell_type": "code",
   "execution_count": null,
   "id": "70e26820",
   "metadata": {},
   "outputs": [],
   "source": [
    "\n",
    "# Importar el módulo json\n",
    "import json\n"
   ]
  },
  {
   "cell_type": "markdown",
   "id": "3d8d98a4",
   "metadata": {},
   "source": [
    "## Lectura\n",
    "\n",
    "Para leer un fichero JSON en Python:\n",
    "- Abrir el fichero en modo lectura\n",
    "- Usar la función `json.load` para cargar el contenido del fichero en un diccionario de Python."
   ]
  },
  {
   "cell_type": "code",
   "execution_count": 7,
   "id": "a3aae1f8",
   "metadata": {},
   "outputs": [
    {
     "name": "stdout",
     "output_type": "stream",
     "text": [
      "{'personajes': [{'nombre': 'Harry Potter', 'casa': 'Gryffindor', 'hijos': ['James Sirius', 'Albus Severus', 'Lily Luna'], 'amigos': ['Ron Weasley', 'Hermione Granger']}, {'nombre': 'Hermione Granger', 'casa': 'Gryffindor', 'hijos': ['Rose', 'Hugo'], 'amigos': ['Harry Potter', 'Ron Weasley']}], 'hechizos': [{'nombre': 'Expelliarmus', 'efecto': 'Desarmar'}, {'nombre': 'Expecto Patronum', 'efecto': 'Invocar Patronus'}, {'nombre': 'Wingardium Leviosa', 'efecto': 'Levitar objetos'}], 'casas': {'Gryffindor': {'fundador': 'Godric Gryffindor', 'valores': ['valentía', 'determinación']}, 'Slytherin': {'fundador': 'Salazar Slytherin', 'valores': ['ambición', 'astucia']}, 'Hufflepuff': {'fundador': 'Helga Hufflepuff', 'valores': ['lealtad', 'paciencia']}, 'Ravenclaw': {'fundador': 'Rowena Ravenclaw', 'valores': ['inteligencia', 'creatividad']}}, 'libros': [{'título': 'Harry Potter y la piedra filosofal', 'año': 1997, 'personajes_principales': ['Harry Potter', 'Ron Weasley', 'Hermione Granger']}, {'título': 'Harry Potter y la cámara secreta', 'año': 1998, 'personajes_principales': ['Harry Potter', 'Ron Weasley', 'Hermione Granger', 'Ginny Weasley']}]}\n",
      "Harry Potter\n",
      "Hermione Granger\n"
     ]
    }
   ],
   "source": [
    "\n",
    "import json\n",
    "\n",
    "# Leer un archivo JSON\n",
    "with open('entrada.json', 'r') as archivo:\n",
    "    datos = json.load(archivo)\n",
    "\n",
    "# Mostrar los datos cargados\n",
    "print(datos)\n",
    "\n",
    "# Trabajar con los datos cargados\n",
    "for personaje in datos['personajes']:\n",
    "    print(personaje['nombre'])\n"
   ]
  },
  {
   "cell_type": "markdown",
   "id": "a4c17545",
   "metadata": {},
   "source": [
    "A partir de ese momento, tenemos todo el contenido del fichero en un diccionario de Python."
   ]
  },
  {
   "cell_type": "markdown",
   "id": "fe7c0605",
   "metadata": {},
   "source": [
    "## Escritura\n",
    "\n",
    "Para escribir un fichero JSON en Python:\n",
    "- Abrir el fichero en modo escritura.\n",
    "- Usar la función `json.dump` para escribir un diccionario de Python en el fichero."
   ]
  },
  {
   "cell_type": "code",
   "execution_count": 8,
   "id": "6b36eaac",
   "metadata": {},
   "outputs": [
    {
     "name": "stdout",
     "output_type": "stream",
     "text": [
      "Archivo JSON creado con éxito.\n"
     ]
    }
   ],
   "source": [
    "\n",
    "import json\n",
    "\n",
    "# Escribir en un archivo JSON\n",
    "hechizos_harry_potter = {\n",
    "    \"Expelliarmus\": \"Desarma al oponente, quitándole su varita.\",\n",
    "    \"Expecto Patronum\": \"Invoca un Patronus para protegerse de los Dementores.\",\n",
    "    \"Alohomora\": \"Abre cerraduras y puertas cerradas con llave.\",\n",
    "    \"Wingardium Leviosa\": \"Hace levitar objetos.\",\n",
    "    \"Lumos\": \"Genera luz en la punta de la varita.\",\n",
    "    \"Nox\": \"Apaga la luz generada por Lumos.\",\n",
    "    \"Petrificus Totalus\": \"Paraliza completamente al objetivo.\",\n",
    "    \"Riddikulus\": \"Convierte un boggart en algo ridículo.\",\n",
    "    \"Sectumsempra\": \"Causa heridas profundas como si fueran hechas por una espada invisible.\",\n",
    "    \"Avada Kedavra\": \"Maldición asesina que provoca la muerte instantánea.\",\n",
    "    \"Imperio\": \"Controla completamente la voluntad de la víctima.\",\n",
    "    \"Crucio\": \"Causa un dolor extremo y agónico a la víctima.\",\n",
    "    \"Reparo\": \"Repara objetos rotos o dañados.\",\n",
    "    \"Incendio\": \"Genera fuego desde la varita.\",\n",
    "    \"Protego\": \"Crea un escudo protector contra hechizos.\",\n",
    "    \"Confundo\": \"Confunde a la víctima, desorientándola.\",\n",
    "    \"Muffliato\": \"Evita que las personas cercanas escuchen conversaciones.\",\n",
    "    \"Relashio\": \"Obliga a soltar lo que se sostiene.\",\n",
    "    \"Accio\": \"Atrae objetos hacia el conjurador.\",\n",
    "    \"Obliviate\": \"Borra recuerdos específicos de la víctima.\"\n",
    "}\n",
    "\n",
    "with open('salida.json', 'w') as archivo:\n",
    "    json.dump(hechizos_harry_potter, archivo)\n",
    "\n",
    "# Confirmar que se ha escrito el archivo\n",
    "print(\"Archivo JSON creado con éxito.\")\n"
   ]
  }
 ],
 "metadata": {
  "kernelspec": {
   "display_name": "Python 3",
   "language": "python",
   "name": "python3"
  },
  "language_info": {
   "codemirror_mode": {
    "name": "ipython",
    "version": 3
   },
   "file_extension": ".py",
   "mimetype": "text/x-python",
   "name": "python",
   "nbconvert_exporter": "python",
   "pygments_lexer": "ipython3",
   "version": "3.12.3"
  }
 },
 "nbformat": 4,
 "nbformat_minor": 5
}
