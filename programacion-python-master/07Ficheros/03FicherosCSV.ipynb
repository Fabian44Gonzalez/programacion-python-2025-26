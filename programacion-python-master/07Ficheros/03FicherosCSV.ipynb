{
 "cells": [
  {
   "cell_type": "markdown",
   "metadata": {},
   "source": [
    "# Archivos CSV en Python\n",
    "\n",
    "Los archivos CSV (*Comma Separated Values*) son un tipo de archivo que se utiliza para almacenar datos tabulares. En este tipo de archivos, cada línea representa una fila de la tabla, y los valores de cada fila están separados por comas.\n",
    "\n",
    "Es muy fácil crearlos utilizando una hoja de cálculo, encontraremos el formato CSV como una opción para guardar el archivo. \n"
   ]
  },
  {
   "cell_type": "markdown",
   "metadata": {},
   "source": [
    "## Escritura de un archivo CSV"
   ]
  },
  {
   "cell_type": "code",
   "execution_count": null,
   "metadata": {},
   "outputs": [],
   "source": [
    "import csv\n",
    "\n",
    "with open('ejemplo.csv', 'w', newline='') as archivo:\n",
    "    escritor = csv.writer(archivo)\n",
    "    escritor.writerow(['Nombre', 'Edad', 'Ciudad'])\n",
    "    escritor.writerow(['Juan', 25, 'Madrid'])\n",
    "    escritor.writerow(['Ana', 30, 'Barcelona'])\n"
   ]
  },
  {
   "cell_type": "markdown",
   "metadata": {},
   "source": [
    "Utilizamos newlline='' para evitar que se agregue una línea en blanco entre cada fila, puesto que los sistemas Windows podrían agregar una línea en blanco si no se especifica, ya que el retorno de carro en Windows es '\\r\\n' y en Linux es '\\n'.\n",
    "\n",
    "Al indicar `newline=''` estamos indicando que no realice ninguna conversión de los saltos de línea.\n",
    "\n",
    "```python"
   ]
  },
  {
   "cell_type": "markdown",
   "metadata": {},
   "source": [
    "## Lectura de un archivo CSV\n",
    "\n",
    "Al leer un archivo CSV, Python nos devuelve un objeto de tipo `csv.reader`, que podemos recorrer con un bucle `for` para leer cada fila del archivo. Cada fila de archivo se convierte en una lista de Python, donde cada elemento de la lista es un valor de la fila."
   ]
  },
  {
   "cell_type": "code",
   "execution_count": 6,
   "metadata": {},
   "outputs": [
    {
     "name": "stdout",
     "output_type": "stream",
     "text": [
      "['12345678A', 'Juan Pérez', '15', '4º ESO A', '8.5']\n",
      "Elemento 0: 12345678A\n",
      "Elemento 1: Juan Pérez\n",
      "Elemento 2: 15\n",
      "Elemento 3: 4º ESO A\n",
      "Elemento 4: 8.5\n",
      "['23456789B', 'Ana López', '16', '4º ESO B', '9.0']\n",
      "Elemento 0: 23456789B\n",
      "Elemento 1: Ana López\n",
      "Elemento 2: 16\n",
      "Elemento 3: 4º ESO B\n",
      "Elemento 4: 9.0\n",
      "['34567890C', 'Carlos Ruiz', '15', '4º ESO A', '7.8']\n",
      "Elemento 0: 34567890C\n",
      "Elemento 1: Carlos Ruiz\n",
      "Elemento 2: 15\n",
      "Elemento 3: 4º ESO A\n",
      "Elemento 4: 7.8\n",
      "['45678901D', 'María Gómez', '16', '4º ESO C', '8.9']\n",
      "Elemento 0: 45678901D\n",
      "Elemento 1: María Gómez\n",
      "Elemento 2: 16\n",
      "Elemento 3: 4º ESO C\n",
      "Elemento 4: 8.9\n",
      "['56789012E', 'Luis Torres', '15', '4º ESO B', '7.5']\n",
      "Elemento 0: 56789012E\n",
      "Elemento 1: Luis Torres\n",
      "Elemento 2: 15\n",
      "Elemento 3: 4º ESO B\n",
      "Elemento 4: 7.5\n",
      "['67890123F', 'Elena Sánchez', '16', '4º ESO A', '9.2']\n",
      "Elemento 0: 67890123F\n",
      "Elemento 1: Elena Sánchez\n",
      "Elemento 2: 16\n",
      "Elemento 3: 4º ESO A\n",
      "Elemento 4: 9.2\n",
      "['78901234G', 'Pedro Ramírez', '15', '4º ESO C', '8.0']\n",
      "Elemento 0: 78901234G\n",
      "Elemento 1: Pedro Ramírez\n",
      "Elemento 2: 15\n",
      "Elemento 3: 4º ESO C\n",
      "Elemento 4: 8.0\n",
      "['89012345H', 'Lucía Fernández', '16', '4º ESO B', '8.7']\n",
      "Elemento 0: 89012345H\n",
      "Elemento 1: Lucía Fernández\n",
      "Elemento 2: 16\n",
      "Elemento 3: 4º ESO B\n",
      "Elemento 4: 8.7\n",
      "['90123456I', 'Sofía Martínez', '15', '4º ESO A', '9.1']\n",
      "Elemento 0: 90123456I\n",
      "Elemento 1: Sofía Martínez\n",
      "Elemento 2: 15\n",
      "Elemento 3: 4º ESO A\n",
      "Elemento 4: 9.1\n",
      "['01234567J', 'Diego Castro', '16', '4º ESO C', '7.9']\n",
      "Elemento 0: 01234567J\n",
      "Elemento 1: Diego Castro\n",
      "Elemento 2: 16\n",
      "Elemento 3: 4º ESO C\n",
      "Elemento 4: 7.9\n"
     ]
    }
   ],
   "source": [
    "import csv\n",
    "\n",
    "with open('ejemplo.csv', 'r') as archivo:\n",
    "    lector = csv.reader(archivo)\n",
    "    for fila in lector:\n",
    "        print(fila)\n",
    "        for i in range(len(fila)):\n",
    "            print(f\"Elemento {i}: {fila[i]}\")"
   ]
  },
  {
   "cell_type": "markdown",
   "metadata": {},
   "source": [
    "## Escritura a partir de diccionarios\n",
    "\n",
    "Es posible convertir una lista de diccionarios no anidados en un archivo CSV utilizando la función `csv.DictWriter`. La primera fila del CSV contendrá los nombres de las columnas, y cada fila posterior contendrá los valores de cada diccionario."
   ]
  },
  {
   "cell_type": "code",
   "execution_count": 2,
   "metadata": {},
   "outputs": [],
   "source": [
    "import csv\n",
    "\n",
    "# Datos de ejemplo con DNI y cursos españoles\n",
    "datos_alumnos = [\n",
    "    {\"DNI\": \"12345678A\", \"Nombre\": \"Juan Pérez\", \"Edad\": 15, \"Curso\": \"4º ESO A\", \"Media\": 8.5},\n",
    "    {\"DNI\": \"23456789B\", \"Nombre\": \"Ana López\", \"Edad\": 16, \"Curso\": \"4º ESO B\", \"Media\": 9.0},\n",
    "    {\"DNI\": \"34567890C\", \"Nombre\": \"Carlos Ruiz\", \"Edad\": 15, \"Curso\": \"4º ESO A\", \"Media\": 7.8},\n",
    "    {\"DNI\": \"45678901D\", \"Nombre\": \"María Gómez\", \"Edad\": 16, \"Curso\": \"4º ESO C\", \"Media\": 8.9},\n",
    "    {\"DNI\": \"56789012E\", \"Nombre\": \"Luis Torres\", \"Edad\": 15, \"Curso\": \"4º ESO B\", \"Media\": 7.5},\n",
    "    {\"DNI\": \"67890123F\", \"Nombre\": \"Elena Sánchez\", \"Edad\": 16, \"Curso\": \"4º ESO A\", \"Media\": 9.2},\n",
    "    {\"DNI\": \"78901234G\", \"Nombre\": \"Pedro Ramírez\", \"Edad\": 15, \"Curso\": \"4º ESO C\", \"Media\": 8.0},\n",
    "    {\"DNI\": \"89012345H\", \"Nombre\": \"Lucía Fernández\", \"Edad\": 16, \"Curso\": \"4º ESO B\", \"Media\": 8.7},\n",
    "    {\"DNI\": \"90123456I\", \"Nombre\": \"Sofía Martínez\", \"Edad\": 15, \"Curso\": \"4º ESO A\", \"Media\": 9.1},\n",
    "    {\"DNI\": \"01234567J\", \"Nombre\": \"Diego Castro\", \"Edad\": 16, \"Curso\": \"4º ESO C\", \"Media\": 7.9}\n",
    "]\n",
    "\n",
    "# Crear el archivo CSV\n",
    "nombre_archivo = \"alumnos_instituto.csv\"\n",
    "with open(nombre_archivo, \"w\", newline=\"\", encoding=\"utf-8\") as archivo:\n",
    "    escritor = csv.DictWriter(archivo, fieldnames=[\"DNI\", \"Nombre\", \"Edad\", \"Curso\", \"Media\"])\n",
    "    escritor.writeheader()\n",
    "    escritor.writerows(datos_alumnos)"
   ]
  },
  {
   "cell_type": "markdown",
   "metadata": {},
   "source": [
    "## Lectura en diccionarios\n",
    "\n",
    "En cuanto a la lectura en dicho formato, podemos utilizar la función `csv.DictReader`, que toma las claves de la primera fila del archivo CSV como nombres de las columnas, y devuelve un objeto `csv.DictReader` que podemos recorrer con un bucle `for` como si fuera una lista, para obtener un diccionario por cada fila del archivo.\n"
   ]
  },
  {
   "cell_type": "code",
   "execution_count": 5,
   "metadata": {},
   "outputs": [
    {
     "name": "stdout",
     "output_type": "stream",
     "text": [
      "<csv.DictReader object at 0x7e3475336c30>\n",
      "{'DNI': '12345678A', 'Nombre': 'Juan Pérez', 'Edad': '15', 'Curso': '4º ESO A', 'Media': '8.5'}\n",
      "{'DNI': '23456789B', 'Nombre': 'Ana López', 'Edad': '16', 'Curso': '4º ESO B', 'Media': '9.0'}\n",
      "{'DNI': '34567890C', 'Nombre': 'Carlos Ruiz', 'Edad': '15', 'Curso': '4º ESO A', 'Media': '7.8'}\n",
      "{'DNI': '45678901D', 'Nombre': 'María Gómez', 'Edad': '16', 'Curso': '4º ESO C', 'Media': '8.9'}\n",
      "{'DNI': '56789012E', 'Nombre': 'Luis Torres', 'Edad': '15', 'Curso': '4º ESO B', 'Media': '7.5'}\n",
      "{'DNI': '67890123F', 'Nombre': 'Elena Sánchez', 'Edad': '16', 'Curso': '4º ESO A', 'Media': '9.2'}\n",
      "{'DNI': '78901234G', 'Nombre': 'Pedro Ramírez', 'Edad': '15', 'Curso': '4º ESO C', 'Media': '8.0'}\n",
      "{'DNI': '89012345H', 'Nombre': 'Lucía Fernández', 'Edad': '16', 'Curso': '4º ESO B', 'Media': '8.7'}\n",
      "{'DNI': '90123456I', 'Nombre': 'Sofía Martínez', 'Edad': '15', 'Curso': '4º ESO A', 'Media': '9.1'}\n",
      "{'DNI': '01234567J', 'Nombre': 'Diego Castro', 'Edad': '16', 'Curso': '4º ESO C', 'Media': '7.9'}\n"
     ]
    }
   ],
   "source": [
    "import csv\n",
    "\n",
    "with open('alumnos_instituto.csv', 'r') as archivo:\n",
    "    lector = csv.DictReader(archivo)\n",
    "    print(lector)\n",
    "    for fila in lector:\n",
    "        print(fila)"
   ]
  }
 ],
 "metadata": {
  "kernelspec": {
   "display_name": "Python 3",
   "language": "python",
   "name": "python3"
  },
  "language_info": {
   "codemirror_mode": {
    "name": "ipython",
    "version": 3
   },
   "file_extension": ".py",
   "mimetype": "text/x-python",
   "name": "python",
   "nbconvert_exporter": "python",
   "pygments_lexer": "ipython3",
   "version": "3.12.3"
  }
 },
 "nbformat": 4,
 "nbformat_minor": 2
}
