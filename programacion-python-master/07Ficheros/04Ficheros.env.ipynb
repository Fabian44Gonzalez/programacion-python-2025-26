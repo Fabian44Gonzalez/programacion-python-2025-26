{
 "cells": [
  {
   "cell_type": "markdown",
   "metadata": {},
   "source": [
    "# Ficheros `.env`\n",
    "\n",
    "En una aplicación real, es posible que necesitemos configurar algunas variables de entorno para que nuestra aplicación funcione correctamente. Por ejemplo, si estamos trabajando con una base de datos, es posible que necesitemos configurar la URL de la base de datos, el nombre de usuario y la contraseña.\n",
    "\n",
    "No es bueno incluir en nuestro código dichos valores, puesto que se trata de información sensible. En su lugar, es una buena práctica almacenarlos en un archivo `.env` y cargarlos desde nuestro código como variables de entorno del sistema operativo.\n",
    "\n",
    "Los ficheros `.env` no deben ser incluidos en el control de versiones de nuestro proyecto, ya que contienen información sensible. En su lugar, podemos incluir un fichero `.env.example` con valores por defecto o valores de ejemplo. Debemos incluir en el fichero `.gitignore` la línea `.env` para que no se incluya en el control de versiones.\n",
    "\n",
    "Los ficheros `.env` suelen tener un formato similar al siguiente:\n",
    "\n",
    "```plaintext\n",
    "DB_HOST=localhost\n",
    "DB_USER=root\n",
    "DB_PASS=1234\n",
    "```\n",
    "Para cargar las variables de entorno desde un fichero `.env` en Python, podemos utilizar la librería `python-dotenv`. Para instalarla, podemos ejecutar el siguiente comando:\n",
    "\n",
    "```bash\n",
    "pip install python-dotenv\n",
    "```\n",
    "\n",
    "También necesitaremos la librería `os` para acceder a las variables de entorno del sistema operativo."
   ]
  },
  {
   "cell_type": "code",
   "execution_count": null,
   "metadata": {},
   "outputs": [],
   "source": [
    "from dotenv import load_dotenv\n",
    "import os\n",
    "\n",
    "# Carga las variables del archivo .env\n",
    "load_dotenv()\n",
    "\n",
    "# Accede a las variables\n",
    "db_host = os.getenv(\"DB_HOST\")\n",
    "db_user = os.getenv(\"DB_USER\")\n",
    "db_passwd = os.getenv(\"DB_PASS\")"
   ]
  },
  {
   "cell_type": "markdown",
   "metadata": {},
   "source": [
    "Por defecto, `load_dotenv()` no sobrescribe las variables de entorno existentes. Para sobreescribirse debe emplearse `load_dotenv(override=True)`."
   ]
  },
  {
   "cell_type": "markdown",
   "metadata": {},
   "source": [
    "## Ficheros `.env.example`\n",
    "\n",
    "Como los ficheros `.env` contienen información sensible, no se deben subir al repositorio. En su lugar, se sube un fichero `.env.example` con las variables de entorno necesarias y valores de ejemplo."
   ]
  },
  {
   "cell_type": "code",
   "execution_count": null,
   "metadata": {
    "vscode": {
     "languageId": "plaintext"
    }
   },
   "outputs": [],
   "source": [
    "DB_HOST=localhost\n",
    "DB_USER=tu_usuario\n",
    "DB_PASS=tu_contraseña"
   ]
  }
 ],
 "metadata": {
  "language_info": {
   "name": "python"
  }
 },
 "nbformat": 4,
 "nbformat_minor": 2
}
