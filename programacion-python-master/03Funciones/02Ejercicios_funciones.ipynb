{
 "cells": [
  {
   "cell_type": "markdown",
   "metadata": {},
   "source": [
    "## Ejercicio 1\n",
    "\n",
    "Crea una función que calcule y devuelva el área de un círculo."
   ]
  },
  {
   "cell_type": "code",
   "execution_count": null,
   "metadata": {},
   "outputs": [],
   "source": [
    "import math\n",
    "\n",
    "def area_circulo (radio):\n",
    "    area = math.pi * radio ** 2\n",
    "    return area\n",
    "\n",
    "radio = int(input(\"Dime el radio del criculo\"))\n",
    "\n",
    "print(area_circulo(radio))"
   ]
  },
  {
   "cell_type": "markdown",
   "metadata": {},
   "source": [
    "## Ejercicio 1a\n",
    "\n",
    "Crea ahora dos programas principales diferentes en los que se pueda utilizar dicha función. Por ejemplo:\n",
    "\n",
    "- Programa que pida al usuario el radio y le diga el área del círculo\n",
    "- Programa para una empresa que crea posavasos circulares, para calcular el material que le va a hacer falta, pregunta al usuario cuántos posavasos quiere y cuál es su radio y calcula el área total de todos los posavasos. El usuario puede elegir varios tipos de posavasos y diferente cantidad para cada uno de ellos."
   ]
  },
  {
   "cell_type": "code",
   "execution_count": null,
   "metadata": {},
   "outputs": [],
   "source": [
    "import math\n",
    "\n",
    "def area_circulo (radio):\n",
    "    area = math.pi * radio ** 2\n",
    "    return area\n",
    "\n",
    "def area_total (num_posavasos, area):\n",
    "    area_total = num_posavasos * area\n",
    "    return area_total\n",
    "\n",
    "respuesta = \"s\"\n",
    "while respuesta == \"s\":\n",
    "    num_posavasos = int(input(\"Dime el número de posavasos\")) \n",
    "    radio = int(input(\"Dime el radio del criculo\"))\n",
    "\n",
    "    respuesta = input(\"Quieres seguir introduciedno mas datos? (s/n)\")\n",
    "\n",
    "    print(area_total(num_posavasos= num_posavasos, area= area_circulo(radio)))"
   ]
  },
  {
   "cell_type": "markdown",
   "metadata": {},
   "source": [
    "## Ejercicio 2\n",
    "\n",
    "Crea una función que reciba un número entero y muestre por pantalla un cuadrado de asteriscos con tantos asteriscos como se le haya indicado. Por ejemplo, si se le pasa el valor 3, muestra:\n",
    "```python\n",
    "***\n",
    "***\n",
    "***\n",
    "```"
   ]
  },
  {
   "cell_type": "code",
   "execution_count": null,
   "metadata": {},
   "outputs": [],
   "source": [
    "def cuadrado_asteriscos(filas):\n",
    "    for i in range(filas):\n",
    "        print(\"*\" * filas)\n",
    "        \n",
    "\n",
    "filas = int(input(\"Dime el número de filas\"))\n",
    "cuadrado_asteriscos(filas)"
   ]
  },
  {
   "cell_type": "markdown",
   "metadata": {},
   "source": [
    "## Ejercicio 3\n",
    "\n",
    "Crea una función a la que se le pase la edad de un alumno y devuelva si es o no mayor de edad (como un valor booleano)."
   ]
  },
  {
   "cell_type": "code",
   "execution_count": null,
   "metadata": {},
   "outputs": [],
   "source": [
    "def edad_alumno(años):\n",
    "    if años >= 18:\n",
    "        return True\n",
    "    else: \n",
    "        return False\n",
    "\n",
    "años = int(input(\"Dime los años del alumno\"))    \n",
    "resultado = edad_alumno(años)\n",
    "print(resultado)"
   ]
  },
  {
   "cell_type": "markdown",
   "metadata": {},
   "source": [
    "## Ejercicio 4\n",
    "\n",
    "Crea una función que no reciba parámetros y muestre por pantalla el siguiente menú:\n",
    "\n",
    "```\n",
    "    1. Saludar\n",
    "    2. Despedir\n",
    "    3. Salir\n",
    "    Escoge una opción: \n",
    "```\n",
    "\n",
    "Debe devolver el valor escogido por el usuario.\n",
    "\n",
    "El programa principal debe llamar a la función y ejecutar la opción que haya escogido el usuario.\n"
   ]
  },
  {
   "cell_type": "code",
   "execution_count": 6,
   "metadata": {},
   "outputs": [
    {
     "name": "stdout",
     "output_type": "stream",
     "text": [
      "Opción 1 -> Saludar.\n",
      "Opción 2 -> Despedir.\n",
      "Opción 3 -> Salir.\n",
      "Hola\n",
      "Opción 1 -> Saludar.\n",
      "Opción 2 -> Despedir.\n",
      "Opción 3 -> Salir.\n",
      "Adiós\n",
      "Opción 1 -> Saludar.\n",
      "Opción 2 -> Despedir.\n",
      "Opción 3 -> Salir.\n",
      "Salir\n"
     ]
    }
   ],
   "source": [
    "def menu():\n",
    "    option = 0\n",
    "    while option != 3:\n",
    "        print(\"\"\"Opción 1 -> Saludar.\n",
    "Opción 2 -> Despedir.\n",
    "Opción 3 -> Salir.\"\"\")\n",
    "        \n",
    "        option = int(input(\"Escoge una opción: \"))\n",
    "        \n",
    "        if option == 1:\n",
    "            print(\"Hola\")\n",
    "        elif option == 2:\n",
    "            print(\"Adiós\")\n",
    "        elif option == 3:\n",
    "            print(\"Salir\")\n",
    "        else:\n",
    "            print(\"Opción no válida.\")\n",
    "\n",
    "menu()\n"
   ]
  },
  {
   "cell_type": "markdown",
   "metadata": {},
   "source": [
    "# Ejercicio 5\n",
    "\n",
    "Crea una función en Python que calcule e imprima el volumen y el área del cono.\n",
    "\n",
    "Modifícala para que sean dos funciones, una que devuelva el volumen y otra el área del cono.\n",
    "\n",
    "**AVANZADO** Modifícala para que sea una función que devuelve dos valores."
   ]
  },
  {
   "cell_type": "code",
   "execution_count": 7,
   "metadata": {},
   "outputs": [
    {
     "name": "stdout",
     "output_type": "stream",
     "text": [
      "Cono con radio: 3 y altura: 4\n",
      "Volumen: 37.69911184307752\n",
      "Area total: 75.39822368615503\n"
     ]
    }
   ],
   "source": [
    "import math\n",
    "\n",
    "def cono(radio, altura):\n",
    "\n",
    "    if radio <= 0 or altura <= 0:\n",
    "        print(\"El radio y la altura deben ser valores positivos.\")\n",
    "        return\n",
    "    \n",
    "    generatriz = math.sqrt(radio**2 + altura**2)\n",
    "    volumen = (1.0/3.0) * math.pi * radio**2 * altura\n",
    "    area_total = math.pi * radio * (radio + generatriz)\n",
    "    \n",
    "    print(\"Cono con radio:\", radio, \"y altura:\", altura)\n",
    "    print(\"Volumen:\", volumen )\n",
    "    print(\"Area total:\", area_total)\n",
    "\n",
    "cono(3, 4)"
   ]
  },
  {
   "cell_type": "code",
   "execution_count": 8,
   "metadata": {},
   "outputs": [
    {
     "name": "stdout",
     "output_type": "stream",
     "text": [
      "Cono con radio: 3 y altura: 4\n",
      "Volumen: 37.69911184307752\n",
      "Cono con radio: 3 y altura: 4\n",
      "Area total: 75.39822368615503\n"
     ]
    }
   ],
   "source": [
    "import math\n",
    "\n",
    "def volumen_cono(radio, altura):\n",
    "\n",
    "    if radio <= 0 or altura <= 0:\n",
    "        print(\"El radio y la altura deben ser valores positivos.\")\n",
    "        return\n",
    "\n",
    "    volumen = (1.0/3.0) * math.pi * radio**2 * altura\n",
    "    \n",
    "    print(\"Cono con radio:\", radio, \"y altura:\", altura)\n",
    "    print(\"Volumen:\", volumen )\n",
    "\n",
    "def area_cono(radio, altura):\n",
    "\n",
    "    if radio <= 0 or altura <= 0:\n",
    "        print(\"El radio y la altura deben ser valores positivos.\")\n",
    "        return\n",
    "    \n",
    "    generatriz = math.sqrt(radio**2 + altura**2)\n",
    "    area_total = math.pi * radio * (radio + generatriz)\n",
    "    \n",
    "    print(\"Cono con radio:\", radio, \"y altura:\", altura)\n",
    "    print(\"Area total:\", area_total)\n",
    "\n",
    "volumen_cono(3, 4)\n",
    "area_cono(3, 4)"
   ]
  },
  {
   "cell_type": "markdown",
   "metadata": {},
   "source": [
    "# Ejercicio 6\n",
    "\n",
    "Crea una función en Python que indique si un año es o no bisiesto. Devolverá `True` cuando\n",
    "lo es y `False` en caso contrario. Crea un programa principal que solicite el año al usuario y\n",
    "haga uso de la función."
   ]
  },
  {
   "cell_type": "markdown",
   "metadata": {},
   "source": [
    "# Ejercicio 7\n",
    "\n",
    "Utiliza la función anterior para crear un programa que pida al usuario un\n",
    "año mínimo y uno máximo y devuelva los años bisiestos que se encuentren entre ambos.\n",
    "\n",
    "**AVANZADO**: Crea con esto otra función, que haga uso de la del Ejercicio 6, a la que se le pasen los años de inicio y fin. En el caso de que no se le pase ningún año de fin tomará 2023 como valor por defecto.\n"
   ]
  },
  {
   "cell_type": "markdown",
   "metadata": {},
   "source": [
    "# Ejercicio 8\n",
    "\n",
    "Crea una función en Python que determine si un número es, o no, primo. La función\n",
    "devolverá `True` cuando el número sea primo y `False`, en caso contrario.\n"
   ]
  },
  {
   "cell_type": "markdown",
   "metadata": {},
   "source": [
    "# Ejercicio 9\n",
    "\n",
    "Utiliza la función anterior para crear un programa que pida al usuario un número y devuelva los números primos menores que ese número."
   ]
  },
  {
   "cell_type": "markdown",
   "metadata": {},
   "source": [
    "# Ejercicio 10\n",
    "\n",
    "Crea una función en Python que reciba un número y genere una pirámide como la siguiente\n",
    "(esta sería la generada cuando se recibe el número 5):\n",
    "```python\n",
    "    1\n",
    "   212\n",
    "  32123\n",
    " 4321234\n",
    "543212345\n",
    "```\n",
    "Paso 1\n",
    "```python\n",
    "1\n",
    "21\n",
    "321\n",
    "4321\n",
    "54321\n",
    "```\n",
    "Paso 2\n",
    "```python\n",
    "    1\n",
    "   21\n",
    "  321\n",
    " 4321\n",
    "54321\n",
    "```\n",
    "Paso 3\n",
    "```python\n",
    "    1\n",
    "   212\n",
    "  32123\n",
    " 4321234\n",
    "543212345\n",
    "```"
   ]
  }
 ],
 "metadata": {
  "kernelspec": {
   "display_name": "Python 3",
   "language": "python",
   "name": "python3"
  },
  "language_info": {
   "codemirror_mode": {
    "name": "ipython",
    "version": 3
   },
   "file_extension": ".py",
   "mimetype": "text/x-python",
   "name": "python",
   "nbconvert_exporter": "python",
   "pygments_lexer": "ipython3",
   "version": "3.13.7"
  },
  "orig_nbformat": 4
 },
 "nbformat": 4,
 "nbformat_minor": 2
}
