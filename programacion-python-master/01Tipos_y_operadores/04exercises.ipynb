{
 "cells": [
  {
   "cell_type": "markdown",
   "id": "8531109e",
   "metadata": {},
   "source": [
    "## Exercise Block 1\n",
    "All the values your programs use will be directly assigned to variables:\n",
    "\n",
    "- Write a program that calculates the area of a triangle.  \n"
   ]
  },
  {
   "cell_type": "code",
   "execution_count": 3,
   "id": "23fa4c13",
   "metadata": {},
   "outputs": [
    {
     "name": "stdout",
     "output_type": "stream",
     "text": [
      "El area del triangulo es: 16.0\n"
     ]
    }
   ],
   "source": [
    "base = 4\n",
    "altura = 8\n",
    "area_triangulo = base * altura / 2\n",
    "print(\"El area del triangulo es:\", area_triangulo)"
   ]
  },
  {
   "cell_type": "markdown",
   "id": "3127709c",
   "metadata": {},
   "source": [
    "- Write a program that calculates both the area and the perimeter of a rectangle.  \n",
    "\n"
   ]
  },
  {
   "cell_type": "code",
   "execution_count": 10,
   "id": "f2d9488e",
   "metadata": {},
   "outputs": [
    {
     "name": "stdout",
     "output_type": "stream",
     "text": [
      "El area del rectangulo es: 32\n",
      "El perimetro del rectangulo es: 24\n"
     ]
    }
   ],
   "source": [
    "base = 4\n",
    "altura = 8\n",
    "area = base * altura\n",
    "perimetro = 2 * (base + altura)\n",
    "print(\"El area del rectangulo es:\", area)\n",
    "print(\"El perimetro del rectangulo es:\", perimetro)"
   ]
  },
  {
   "cell_type": "markdown",
   "id": "a0d62a6b",
   "metadata": {},
   "source": [
    "- Given three values, `a`, `b`, and `c`, compute the result of this expression:  \n",
    "$$\n",
    "(a + b - c)^3\n",
    "$$"
   ]
  },
  {
   "cell_type": "code",
   "execution_count": 11,
   "id": "faa86224",
   "metadata": {},
   "outputs": [
    {
     "name": "stdout",
     "output_type": "stream",
     "text": [
      "El resultado es: 512\n"
     ]
    }
   ],
   "source": [
    "a = 10\n",
    "b = 3\n",
    "c = 5\n",
    "resultado = (a + b - c) ** 3\n",
    "print(\"El resultado es:\", resultado)"
   ]
  }
 ],
 "metadata": {
  "kernelspec": {
   "display_name": "Python 3",
   "language": "python",
   "name": "python3"
  },
  "language_info": {
   "codemirror_mode": {
    "name": "ipython",
    "version": 3
   },
   "file_extension": ".py",
   "mimetype": "text/x-python",
   "name": "python",
   "nbconvert_exporter": "python",
   "pygments_lexer": "ipython3",
   "version": "3.13.7"
  }
 },
 "nbformat": 4,
 "nbformat_minor": 5
}
