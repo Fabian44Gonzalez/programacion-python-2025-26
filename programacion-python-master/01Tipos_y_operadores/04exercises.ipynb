{
 "cells": [
  {
   "cell_type": "markdown",
   "id": "8531109e",
   "metadata": {},
   "source": [
    "## Exercise Block 1\n",
    "All the values your programs use will be directly assigned to variables:\n",
    "\n",
    "- Write a program that calculates the area of a triangle.  \n",
    "- Write a program that calculates both the area and the perimeter of a rectangle.  \n",
    "- Given three values, `a`, `b`, and `c`, compute the result of this expression:  \n",
    "$$\n",
    "(a + b - c)^3\n",
    "$$"
   ]
  }
 ],
 "metadata": {
  "language_info": {
   "name": "python"
  }
 },
 "nbformat": 4,
 "nbformat_minor": 5
}
