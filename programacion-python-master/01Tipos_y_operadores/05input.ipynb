{
 "cells": [
  {
   "cell_type": "markdown",
   "metadata": {},
   "source": [
    "# La función `input()`\n",
    "\n",
    "La función `input()` permite al usuario introducir datos desde el teclado. \n",
    "\n",
    "El valor que devuelve debe ser asignado a una variable:\n"
   ]
  },
  {
   "cell_type": "code",
   "execution_count": 1,
   "metadata": {},
   "outputs": [
    {
     "name": "stdout",
     "output_type": "stream",
     "text": [
      "¿Cómo te llamas?\n",
      "Hola Fabián\n"
     ]
    }
   ],
   "source": [
    "print(\"¿Cómo te llamas?\")\n",
    "nombre = input()\n",
    "print(\"Hola\", nombre)"
   ]
  },
  {
   "cell_type": "code",
   "execution_count": 2,
   "metadata": {},
   "outputs": [
    {
     "name": "stdout",
     "output_type": "stream",
     "text": [
      "¿Cómo te llamas?\n",
      "¿Qué edad tienes?\n",
      "Hola, Fabián tienes 20 años\n"
     ]
    }
   ],
   "source": [
    "print(\"¿Cómo te llamas?\")\n",
    "nombre = input()\n",
    "print(\"¿Qué edad tienes?\")\n",
    "edad = input()\n",
    "print(\"Hola,\", nombre, \"tienes\", edad, \"años\")\n"
   ]
  },
  {
   "cell_type": "markdown",
   "metadata": {},
   "source": [
    "También puede utilizarse con un argumento, en el que se le pasa el mensaje a mostrar al usuario antes de dejarle escribir el valor."
   ]
  },
  {
   "cell_type": "code",
   "execution_count": 3,
   "metadata": {},
   "outputs": [
    {
     "name": "stdout",
     "output_type": "stream",
     "text": [
      "Hola Fabián\n"
     ]
    }
   ],
   "source": [
    "nombre = input(\"¿Cómo te llamas?\")\n",
    "print(\"Hola\", nombre)"
   ]
  },
  {
   "cell_type": "markdown",
   "metadata": {},
   "source": [
    "## El resultado de la función `input()`\n",
    "\n",
    "El resultado de la función `input()` es una cadena.\n",
    "\n",
    "Una cadena que contiene todos los caracteres que el usuario introduce desde el teclado. No es un entero ni un número en coma flotante.\n"
   ]
  },
  {
   "cell_type": "code",
   "execution_count": 4,
   "metadata": {},
   "outputs": [
    {
     "name": "stdout",
     "output_type": "stream",
     "text": [
      "Vamos a calcular el cuadrado de un número\n"
     ]
    },
    {
     "ename": "TypeError",
     "evalue": "unsupported operand type(s) for ** or pow(): 'str' and 'int'",
     "output_type": "error",
     "traceback": [
      "\u001b[31m---------------------------------------------------------------------------\u001b[39m",
      "\u001b[31mTypeError\u001b[39m                                 Traceback (most recent call last)",
      "\u001b[36mCell\u001b[39m\u001b[36m \u001b[39m\u001b[32mIn[4]\u001b[39m\u001b[32m, line 3\u001b[39m\n\u001b[32m      1\u001b[39m \u001b[38;5;28mprint\u001b[39m(\u001b[33m\"\u001b[39m\u001b[33mVamos a calcular el cuadrado de un número\u001b[39m\u001b[33m\"\u001b[39m)\n\u001b[32m      2\u001b[39m numero = \u001b[38;5;28minput\u001b[39m(\u001b[33m\"\u001b[39m\u001b[33mIntroduce un número: \u001b[39m\u001b[33m\"\u001b[39m)\n\u001b[32m----> \u001b[39m\u001b[32m3\u001b[39m \u001b[38;5;28mprint\u001b[39m(\u001b[33m\"\u001b[39m\u001b[33mEl cuadrado de\u001b[39m\u001b[33m\"\u001b[39m, numero, \u001b[33m\"\u001b[39m\u001b[33mes\u001b[39m\u001b[33m\"\u001b[39m, \u001b[43mnumero\u001b[49m\u001b[43m \u001b[49m\u001b[43m*\u001b[49m\u001b[43m*\u001b[49m\u001b[43m \u001b[49m\u001b[32;43m2\u001b[39;49m)\n",
      "\u001b[31mTypeError\u001b[39m: unsupported operand type(s) for ** or pow(): 'str' and 'int'"
     ]
    }
   ],
   "source": [
    "print(\"Vamos a calcular el cuadrado de un número\")\n",
    "numero = input(\"Introduce un número: \")\n",
    "print(\"El cuadrado de\", numero, \"es\", numero ** 2)"
   ]
  },
  {
   "cell_type": "markdown",
   "metadata": {},
   "source": [
    "\n",
    "Esto significa que no se debe utilizar como un argumento para operaciones matemáticas, antes debe convertirse a un valor numérico (*casting*). Para ello utilizamos las funciones:\n",
    "\n",
    " - `int()` toma un argumento (por ejemplo, una cadena: `int(string)`) e intenta convertirlo a un valor entero; si llegase a fallar, el programa entero fallará también.\n"
   ]
  },
  {
   "cell_type": "code",
   "execution_count": 5,
   "metadata": {},
   "outputs": [
    {
     "name": "stdout",
     "output_type": "stream",
     "text": [
      "Vamos a calcular el cuadrado de un número\n",
      "El cuadrado de 4 es 16\n"
     ]
    }
   ],
   "source": [
    "print(\"Vamos a calcular el cuadrado de un número\")\n",
    "numero = input(\"Introduce un número: \")\n",
    "print(\"El cuadrado de\", numero, \"es\", int(numero) ** 2)"
   ]
  },
  {
   "cell_type": "code",
   "execution_count": 6,
   "metadata": {},
   "outputs": [
    {
     "name": "stdout",
     "output_type": "stream",
     "text": [
      "Vamos a calcular el cuadrado de un número\n",
      "El cuadrado de 4 es 16\n"
     ]
    }
   ],
   "source": [
    "print(\"Vamos a calcular el cuadrado de un número\")\n",
    "numero = int(input(\"Introduce un número: \"))\n",
    "print(\"El cuadrado de\", numero, \"es\", numero ** 2)"
   ]
  },
  {
   "cell_type": "code",
   "execution_count": 7,
   "metadata": {},
   "outputs": [
    {
     "name": "stdout",
     "output_type": "stream",
     "text": [
      "Vamos a calcular el cuadrado de un número\n",
      "El cuadrado de 4 es 16\n"
     ]
    }
   ],
   "source": [
    "print(\"Vamos a calcular el cuadrado de un número\")\n",
    "numero = input(\"Introduce un número: \")\n",
    "numero_int = int(numero)\n",
    "print(\"El cuadrado de\", numero, \"es\", numero_int ** 2)"
   ]
  },
  {
   "cell_type": "markdown",
   "metadata": {},
   "source": [
    "También fallará si le introduzco un valor en coma flotante, por ejemplo: `1.5` o `3E4`"
   ]
  },
  {
   "cell_type": "markdown",
   "metadata": {},
   "source": [
    " - `float()` toma un argumento (por ejemplo, una cadena: `float(string)`) e intenta convertirlo a flotante; si llegase a fallar, el programa entero fallará también."
   ]
  },
  {
   "cell_type": "code",
   "execution_count": 8,
   "metadata": {},
   "outputs": [
    {
     "name": "stdout",
     "output_type": "stream",
     "text": [
      "Vamos a calcular el cuadrado de un número\n",
      "El cuadrado de 4.4 es 19.360000000000003\n"
     ]
    }
   ],
   "source": [
    "print(\"Vamos a calcular el cuadrado de un número\")\n",
    "numero = input(\"Introduce un número: \")\n",
    "print(\"El cuadrado de\", numero, \"es\", float(numero) ** 2)"
   ]
  },
  {
   "cell_type": "markdown",
   "metadata": {},
   "source": [
    "- `str()` toma un argumento y lo convierte a cadena."
   ]
  },
  {
   "cell_type": "code",
   "execution_count": 9,
   "metadata": {},
   "outputs": [
    {
     "ename": "TypeError",
     "evalue": "can only concatenate str (not \"int\") to str",
     "output_type": "error",
     "traceback": [
      "\u001b[31m---------------------------------------------------------------------------\u001b[39m",
      "\u001b[31mTypeError\u001b[39m                                 Traceback (most recent call last)",
      "\u001b[36mCell\u001b[39m\u001b[36m \u001b[39m\u001b[32mIn[9]\u001b[39m\u001b[32m, line 2\u001b[39m\n\u001b[32m      1\u001b[39m dia = \u001b[32m15\u001b[39m\n\u001b[32m----> \u001b[39m\u001b[32m2\u001b[39m cadena = \u001b[33;43m\"\u001b[39;49m\u001b[33;43mEl día es \u001b[39;49m\u001b[33;43m\"\u001b[39;49m\u001b[43m \u001b[49m\u001b[43m+\u001b[49m\u001b[43m \u001b[49m\u001b[43mdia\u001b[49m\n",
      "\u001b[31mTypeError\u001b[39m: can only concatenate str (not \"int\") to str"
     ]
    }
   ],
   "source": [
    "dia = 15\n",
    "cadena = \"El día es \" + dia"
   ]
  },
  {
   "cell_type": "code",
   "execution_count": 10,
   "metadata": {},
   "outputs": [
    {
     "name": "stdout",
     "output_type": "stream",
     "text": [
      "El día es 15\n"
     ]
    }
   ],
   "source": [
    "dia = 15\n",
    "cadena = \"El día es \" + str(dia)\n",
    "print(cadena)"
   ]
  },
  {
   "cell_type": "code",
   "execution_count": 11,
   "metadata": {},
   "outputs": [
    {
     "ename": "TypeError",
     "evalue": "can only concatenate str (not \"int\") to str",
     "output_type": "error",
     "traceback": [
      "\u001b[31m---------------------------------------------------------------------------\u001b[39m",
      "\u001b[31mTypeError\u001b[39m                                 Traceback (most recent call last)",
      "\u001b[36mCell\u001b[39m\u001b[36m \u001b[39m\u001b[32mIn[11]\u001b[39m\u001b[32m, line 2\u001b[39m\n\u001b[32m      1\u001b[39m dia = \u001b[32m15\u001b[39m\n\u001b[32m----> \u001b[39m\u001b[32m2\u001b[39m \u001b[38;5;28mprint\u001b[39m(\u001b[33;43m\"\u001b[39;49m\u001b[33;43mEl día es \u001b[39;49m\u001b[33;43m\"\u001b[39;49m\u001b[43m \u001b[49m\u001b[43m+\u001b[49m\u001b[43m \u001b[49m\u001b[43mdia\u001b[49m)\n",
      "\u001b[31mTypeError\u001b[39m: can only concatenate str (not \"int\") to str"
     ]
    }
   ],
   "source": [
    "dia = 15\n",
    "print(\"El día es \" + dia)"
   ]
  },
  {
   "cell_type": "code",
   "execution_count": 12,
   "metadata": {},
   "outputs": [
    {
     "name": "stdout",
     "output_type": "stream",
     "text": [
      "El día es 15\n"
     ]
    }
   ],
   "source": [
    "dia = 15\n",
    "print(\"El día es \" + str(dia))"
   ]
  }
 ],
 "metadata": {
  "kernelspec": {
   "display_name": "Python 3",
   "language": "python",
   "name": "python3"
  },
  "language_info": {
   "codemirror_mode": {
    "name": "ipython",
    "version": 3
   },
   "file_extension": ".py",
   "mimetype": "text/x-python",
   "name": "python",
   "nbconvert_exporter": "python",
   "pygments_lexer": "ipython3",
   "version": "3.13.7"
  },
  "orig_nbformat": 4
 },
 "nbformat": 4,
 "nbformat_minor": 2
}
