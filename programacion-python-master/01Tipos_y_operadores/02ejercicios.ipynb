{
 "cells": [
  {
   "cell_type": "markdown",
   "id": "a719d178",
   "metadata": {},
   "source": [
    "## Exercise Block 1\n",
    "1. Use the `print()` function to display the line \"Hello, World!\" on the screen. "
   ]
  },
  {
   "cell_type": "code",
   "execution_count": 1,
   "id": "524e59ec",
   "metadata": {},
   "outputs": [
    {
     "name": "stdout",
     "output_type": "stream",
     "text": [
      "Hello World!\n"
     ]
    }
   ],
   "source": [
    "print(\"Hello World!\")"
   ]
  },
  {
   "cell_type": "markdown",
   "id": "7d22d64d",
   "metadata": {},
   "source": [
    " \n",
    "2. Once you've done that, use the `print()` function again, but this time print your name. "
   ]
  },
  {
   "cell_type": "code",
   "execution_count": 2,
   "id": "7897503a",
   "metadata": {},
   "outputs": [
    {
     "name": "stdout",
     "output_type": "stream",
     "text": [
      "Fabián\n"
     ]
    }
   ],
   "source": [
    "print(\"Fabián\")"
   ]
  },
  {
   "cell_type": "markdown",
   "id": "197281bc",
   "metadata": {},
   "source": [
    " \n",
    "3. Remove the double quotes and run the code. Observe Python’s reaction. What type of error occurs? "
   ]
  },
  {
   "cell_type": "code",
   "execution_count": 3,
   "id": "9abb8e3b",
   "metadata": {},
   "outputs": [
    {
     "ename": "NameError",
     "evalue": "name 'Fabián' is not defined",
     "output_type": "error",
     "traceback": [
      "\u001b[31m---------------------------------------------------------------------------\u001b[39m",
      "\u001b[31mNameError\u001b[39m                                 Traceback (most recent call last)",
      "\u001b[36mCell\u001b[39m\u001b[36m \u001b[39m\u001b[32mIn[3]\u001b[39m\u001b[32m, line 1\u001b[39m\n\u001b[32m----> \u001b[39m\u001b[32m1\u001b[39m \u001b[38;5;28mprint\u001b[39m(\u001b[43mFabián\u001b[49m)\n",
      "\u001b[31mNameError\u001b[39m: name 'Fabián' is not defined"
     ]
    }
   ],
   "source": [
    "print(Fabián)"
   ]
  },
  {
   "cell_type": "markdown",
   "id": "e4bf15eb",
   "metadata": {},
   "source": [
    " \n",
    "4. Then, remove the parentheses, put back the double quotes, and run the code again. What type of error occurs this time?  \n"
   ]
  },
  {
   "cell_type": "code",
   "execution_count": 4,
   "id": "8beaa264",
   "metadata": {},
   "outputs": [
    {
     "ename": "SyntaxError",
     "evalue": "Missing parentheses in call to 'print'. Did you mean print(...)? (2998015579.py, line 1)",
     "output_type": "error",
     "traceback": [
      "  \u001b[36mCell\u001b[39m\u001b[36m \u001b[39m\u001b[32mIn[4]\u001b[39m\u001b[32m, line 1\u001b[39m\n\u001b[31m    \u001b[39m\u001b[31mprint\"Fabián\"\u001b[39m\n    ^\n\u001b[31mSyntaxError\u001b[39m\u001b[31m:\u001b[39m Missing parentheses in call to 'print'. Did you mean print(...)?\n"
     ]
    }
   ],
   "source": [
    "print\"Fabián\""
   ]
  },
  {
   "cell_type": "markdown",
   "id": "55232b28",
   "metadata": {},
   "source": [
    "5. Experiment as much as you can. Change the double quotes to single quotes.  \n"
   ]
  },
  {
   "cell_type": "code",
   "execution_count": 5,
   "id": "51f89015",
   "metadata": {},
   "outputs": [
    {
     "name": "stdout",
     "output_type": "stream",
     "text": [
      "Fabián\n"
     ]
    }
   ],
   "source": [
    "print('Fabián')"
   ]
  },
  {
   "cell_type": "markdown",
   "id": "8e2d26c7",
   "metadata": {},
   "source": [
    "6. Use multiple `print()` functions on the same line. "
   ]
  },
  {
   "cell_type": "code",
   "execution_count": 32,
   "id": "d1728fbb",
   "metadata": {},
   "outputs": [
    {
     "name": "stdout",
     "output_type": "stream",
     "text": [
      "Fabián\n",
      "González\n",
      "Rodríguez\n"
     ]
    }
   ],
   "source": [
    "print(\"Fabián\"); print(\"González\"); print(\"Rodríguez\")"
   ]
  },
  {
   "cell_type": "markdown",
   "id": "43a674ed",
   "metadata": {},
   "source": [
    " \n",
    "7. Use multiple `print()` functions on different lines. "
   ]
  },
  {
   "cell_type": "code",
   "execution_count": 8,
   "id": "fd42561c",
   "metadata": {},
   "outputs": [
    {
     "name": "stdout",
     "output_type": "stream",
     "text": [
      "Fabián\n",
      "González\n",
      "Rodríguez\n"
     ]
    }
   ],
   "source": [
    "print(\"Fabián\") \n",
    "print(\"González\")\n",
    "print(\"Rodríguez\")"
   ]
  },
  {
   "cell_type": "markdown",
   "id": "7409dfda",
   "metadata": {},
   "source": [
    " \n",
    "\n",
    "## Exercise Block 2\n",
    "1. Write two `print` statements so that the output is:  \n",
    "```    \n",
    "    Fundamentals***Programming***in```Python\n"
   ]
  },
  {
   "cell_type": "code",
   "execution_count": 52,
   "id": "fb584b97",
   "metadata": {},
   "outputs": [
    {
     "name": "stdout",
     "output_type": "stream",
     "text": [
      "Fundamentals***Programming***in```Python\n"
     ]
    }
   ],
   "source": [
    "print(\"Fundamentals\", \"Programming\", \"in\", sep=\"***\", end=\"```\")\n",
    "print(\"Python\")"
   ]
  },
  {
   "cell_type": "markdown",
   "id": "368b4cd4",
   "metadata": {},
   "source": [
    "```\n",
    "Starting from this code:\n"
   ]
  },
  {
   "cell_type": "code",
   "execution_count": 9,
   "id": "05a028a6",
   "metadata": {},
   "outputs": [
    {
     "name": "stdout",
     "output_type": "stream",
     "text": [
      "    *\n",
      "   * *\n",
      "  *   *\n",
      " *     *\n",
      "***   ***\n",
      "  *   *\n",
      "  *   *\n",
      "  *****\n"
     ]
    }
   ],
   "source": [
    "print(\"    *\")\n",
    "print(\"   * *\")\n",
    "print(\"  *   *\")\n",
    "print(\" *     *\")\n",
    "print(\"***   ***\")\n",
    "print(\"  *   *\")\n",
    "print(\"  *   *\")\n",
    "print(\"  *****\")"
   ]
  },
  {
   "cell_type": "markdown",
   "id": "0d9502f6",
   "metadata": {},
   "source": [
    "Modify it to:  \n",
    "2. Minimize the number of invocations of the `print()` function by inserting the sequence `\\n` in the strings."
   ]
  },
  {
   "cell_type": "code",
   "execution_count": 24,
   "id": "3dd48816",
   "metadata": {},
   "outputs": [
    {
     "name": "stdout",
     "output_type": "stream",
     "text": [
      "    *\n",
      "   * *\n",
      "  *   *\n",
      " *     *\n",
      "***   ***\n",
      "  *   *\n",
      "  *   *\n",
      "  *****\n"
     ]
    }
   ],
   "source": [
    "print(\"    *\\n   * *\\n  *   *\\n *     *\\n***   ***\\n  *   *\\n  *   *\\n  *****\")\n"
   ]
  },
  {
   "cell_type": "markdown",
   "id": "5463e1a4",
   "metadata": {},
   "source": [
    "  \n",
    "3. Duplicate the arrow, placing both arrows side by side; note: a string can be multiplied using the following trick: `\"string\" * 2` will produce `\"stringstring\"`.  \n"
   ]
  },
  {
   "cell_type": "code",
   "execution_count": 43,
   "id": "7d2d9618",
   "metadata": {},
   "outputs": [
    {
     "name": "stdout",
     "output_type": "stream",
     "text": [
      "    *\n",
      "   * *\n",
      "  *   *\n",
      " *     *\n",
      "***   ***\n",
      "  *   *\n",
      "  *   *\n",
      "  *****\n",
      "    *\n",
      "   * *\n",
      "  *   *\n",
      " *     *\n",
      "***   ***\n",
      "  *   *\n",
      "  *   *\n",
      "  *****\n",
      "\n"
     ]
    }
   ],
   "source": [
    "print(\"    *\\n   * *\\n  *   *\\n *     *\\n***   ***\\n  *   *\\n  *   *\\n  *****\\n\" * 2)"
   ]
  },
  {
   "cell_type": "markdown",
   "id": "f1d78ed6",
   "metadata": {},
   "source": [
    "4. Remove one of the quotation marks and carefully observe Python’s response; pay attention to where Python sees an error. Is it really the place where the error exists?  \n",
    "Do the same with some of the parentheses.  \n"
   ]
  },
  {
   "cell_type": "code",
   "execution_count": null,
   "id": "6398ffd3",
   "metadata": {},
   "outputs": [
    {
     "ename": "SyntaxError",
     "evalue": "unmatched ')' (3870645998.py, line 1)",
     "output_type": "error",
     "traceback": [
      "  \u001b[36mCell\u001b[39m\u001b[36m \u001b[39m\u001b[32mIn[47]\u001b[39m\u001b[32m, line 1\u001b[39m\n\u001b[31m    \u001b[39m\u001b[31mprint\"    *\\n   * *\\n  *   *\\n *     *\\n***   ***\\n  *   *\\n  *   *\\n  *****\\n\" * 2)\u001b[39m\n                                                                                       ^\n\u001b[31mSyntaxError\u001b[39m\u001b[31m:\u001b[39m unmatched ')'\n"
     ]
    }
   ],
   "source": [
    "print\"    *\\n   * *\\n  *   *\\n *     *\\n***   ***\\n  *   *\\n  *   *\\n  *****\\n\" * 2)"
   ]
  },
  {
   "cell_type": "code",
   "execution_count": 48,
   "id": "8ca08730",
   "metadata": {},
   "outputs": [
    {
     "ename": "SyntaxError",
     "evalue": "unexpected character after line continuation character (2066328944.py, line 1)",
     "output_type": "error",
     "traceback": [
      "  \u001b[36mCell\u001b[39m\u001b[36m \u001b[39m\u001b[32mIn[48]\u001b[39m\u001b[32m, line 1\u001b[39m\n\u001b[31m    \u001b[39m\u001b[31mprint(    *\\n   * *\\n  *   *\\n *     *\\n***   ***\\n  *   *\\n  *   *\\n  *****\\n\" * 2)\u001b[39m\n                ^\n\u001b[31mSyntaxError\u001b[39m\u001b[31m:\u001b[39m unexpected character after line continuation character\n"
     ]
    }
   ],
   "source": [
    "print(    *\\n   * *\\n  *   *\\n *     *\\n***   ***\\n  *   *\\n  *   *\\n  *****\\n\" * 2)"
   ]
  },
  {
   "cell_type": "markdown",
   "id": "cf95559b",
   "metadata": {},
   "source": [
    "5. Replace some of the double quotes with apostrophes (single quotes); carefully observe what happens."
   ]
  },
  {
   "cell_type": "code",
   "execution_count": 49,
   "id": "84fceecc",
   "metadata": {},
   "outputs": [
    {
     "name": "stdout",
     "output_type": "stream",
     "text": [
      "    *\n",
      "   * *\n",
      "  *   *\n",
      " *     *\n",
      "***   ***\n",
      "  *   *\n",
      "  *   *\n",
      "  *****\n",
      "    *\n",
      "   * *\n",
      "  *   *\n",
      " *     *\n",
      "***   ***\n",
      "  *   *\n",
      "  *   *\n",
      "  *****\n",
      "\n"
     ]
    }
   ],
   "source": [
    "print('    *\\n   * *\\n  *   *\\n *     *\\n***   ***\\n  *   *\\n  *   *\\n  *****\\n' * 2)"
   ]
  }
 ],
 "metadata": {
  "kernelspec": {
   "display_name": "Python 3",
   "language": "python",
   "name": "python3"
  },
  "language_info": {
   "codemirror_mode": {
    "name": "ipython",
    "version": 3
   },
   "file_extension": ".py",
   "mimetype": "text/x-python",
   "name": "python",
   "nbconvert_exporter": "python",
   "pygments_lexer": "ipython3",
   "version": "3.13.7"
  }
 },
 "nbformat": 4,
 "nbformat_minor": 5
}
