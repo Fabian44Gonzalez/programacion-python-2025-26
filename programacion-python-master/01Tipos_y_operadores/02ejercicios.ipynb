{
 "cells": [
  {
   "cell_type": "markdown",
   "id": "a719d178",
   "metadata": {},
   "source": [
    "## Exercise Block 1\n",
    "1. Use the `print()` function to display the line \"Hello, World!\" on the screen.  \n",
    "2. Once you've done that, use the `print()` function again, but this time print your name.  \n",
    "3. Remove the double quotes and run the code. Observe Python’s reaction. What type of error occurs?  \n",
    "4. Then, remove the parentheses, put back the double quotes, and run the code again. What type of error occurs this time?  \n",
    "5. Experiment as much as you can. Change the double quotes to single quotes.  \n",
    "6. Use multiple `print()` functions on the same line.  \n",
    "7. Use multiple `print()` functions on different lines.  \n",
    "\n",
    "## Exercise Block 2\n",
    "1. Write two `print` statements so that the output is:  \n",
    "```    \n",
    "    Fundamentals***Programming***in```Python\n",
    "```\n",
    "Starting from this code:\n"
   ]
  },
  {
   "cell_type": "code",
   "execution_count": 1,
   "id": "05a028a6",
   "metadata": {},
   "outputs": [
    {
     "name": "stdout",
     "output_type": "stream",
     "text": [
      "    *\n",
      "   * *\n",
      "  *   *\n",
      " *     *\n",
      "***   ***\n",
      "  *   *\n",
      "  *   *\n",
      "  *****\n"
     ]
    }
   ],
   "source": [
    "print(\"    *\")\n",
    "print(\"   * *\")\n",
    "print(\"  *   *\")\n",
    "print(\" *     *\")\n",
    "print(\"***   ***\")\n",
    "print(\"  *   *\")\n",
    "print(\"  *   *\")\n",
    "print(\"  *****\")"
   ]
  },
  {
   "cell_type": "markdown",
   "id": "0d9502f6",
   "metadata": {},
   "source": [
    "Modify it to:  \n",
    "2. Minimize the number of invocations of the `print()` function by inserting the sequence `\\n` in the strings.  \n",
    "3. Duplicate the arrow, placing both arrows side by side; note: a string can be multiplied using the following trick: `\"string\" * 2` will produce `\"stringstring\"`.  \n",
    "4. Remove one of the quotation marks and carefully observe Python’s response; pay attention to where Python sees an error. Is it really the place where the error exists?  \n",
    "Do the same with some of the parentheses.  \n",
    "5. Replace some of the double quotes with apostrophes (single quotes); carefully observe what happens."
   ]
  }
 ],
 "metadata": {
  "kernelspec": {
   "display_name": "Python 3",
   "language": "python",
   "name": "python3"
  },
  "language_info": {
   "codemirror_mode": {
    "name": "ipython",
    "version": 3
   },
   "file_extension": ".py",
   "mimetype": "text/x-python",
   "name": "python",
   "nbconvert_exporter": "python",
   "pygments_lexer": "ipython3",
   "version": "3.12.3"
  }
 },
 "nbformat": 4,
 "nbformat_minor": 5
}
