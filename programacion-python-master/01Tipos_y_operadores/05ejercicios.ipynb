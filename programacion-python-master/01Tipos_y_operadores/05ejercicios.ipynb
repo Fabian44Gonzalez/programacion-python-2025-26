{
 "cells": [
  {
   "cell_type": "markdown",
   "metadata": {},
   "source": [
    "# Unit 1 Exercises\n",
    "\n",
    "## Exercise 1  \n",
    "Write a program that asks the user for a number and displays its double.\n"
   ]
  },
  {
   "cell_type": "code",
   "execution_count": 4,
   "metadata": {},
   "outputs": [
    {
     "name": "stdout",
     "output_type": "stream",
     "text": [
      "8\n"
     ]
    }
   ],
   "source": [
    "number = int(input(\"Intoduce un numero\"))\n",
    "double = number * 2\n",
    "print(double)"
   ]
  },
  {
   "cell_type": "markdown",
   "metadata": {},
   "source": [
    "\n",
    "## Exercise 2  \n",
    "Write a program that asks the user for a base and an exponent, then calculates the result of raising the base to that power.\n",
    "$$\n",
    "a^b\n",
    "$$\n"
   ]
  },
  {
   "cell_type": "code",
   "execution_count": 5,
   "metadata": {},
   "outputs": [
    {
     "name": "stdout",
     "output_type": "stream",
     "text": [
      "16\n"
     ]
    }
   ],
   "source": [
    "base = int(input(\"Dame un número para la base\"))\n",
    "exponent = int(input(\"Dame un número para el exponente\"))\n",
    "result = base ** exponent\n",
    "print(result)"
   ]
  },
  {
   "cell_type": "markdown",
   "metadata": {},
   "source": [
    "\n",
    "## Exercise 3  \n",
    "Consult the official Python documentation to understand what the `round()` function does and how to use it (https://docs.python.org/3/library/functions.html). Try some examples with different numbers. Use `round()` to round the results in the following exercises.\n"
   ]
  },
  {
   "cell_type": "code",
   "execution_count": 12,
   "metadata": {},
   "outputs": [
    {
     "name": "stdout",
     "output_type": "stream",
     "text": [
      "Número:  1.67\n",
      "Número redondeado:  2\n"
     ]
    }
   ],
   "source": [
    "num = float(input(\"Dame un número para redondearlo\"))\n",
    "num_round = round(num)\n",
    "print(\"Número: \", num)\n",
    "print(\"Número redondeado: \", num_round)"
   ]
  },
  {
   "cell_type": "markdown",
   "metadata": {},
   "source": [
    "\n",
    "## Exercise 4  \n",
    "Write a program that, given a person’s name, weight (in kg), and height (in cm), prints their weight in pounds, height in feet, and BMI (Body Mass Index).\n"
   ]
  },
  {
   "cell_type": "code",
   "execution_count": null,
   "metadata": {},
   "outputs": [
    {
     "name": "stdout",
     "output_type": "stream",
     "text": [
      "Hola f tu peso es  64 tu altura es  225 y tu BMI es 12.641975308641975\n"
     ]
    }
   ],
   "source": [
    "name = input(\"Cual es tu nombre?\")\n",
    "weight = int(input(\"Dame tu peso en KG\"))\n",
    "height = int(input(\"Dame tu altura en cm\"))\n",
    "height_m = height / 100\n",
    "bmi = weight / (height_m) ** 2 \n",
    "print(\"Hola\", name, \"tu peso es \", weight, \"tu altura es \", height, \"y tu BMI es\", bmi)\n",
    "#hacer bien"
   ]
  },
  {
   "cell_type": "markdown",
   "metadata": {},
   "source": [
    "\n",
    "## Exercise 5  \n",
    "Write a program that converts an amount in euros to its equivalent in dollars.\n"
   ]
  },
  {
   "cell_type": "markdown",
   "metadata": {},
   "source": [
    "\n",
    "## Exercise 6  \n",
    "Write a program that converts an amount in dollars to its equivalent in euros.\n"
   ]
  },
  {
   "cell_type": "markdown",
   "metadata": {},
   "source": [
    "\n",
    "## Exercise 7  \n",
    "Write a program that calculates the hypotenuse (`h`) of a right triangle given its legs (`a` and `b`).\n"
   ]
  },
  {
   "cell_type": "markdown",
   "metadata": {},
   "source": [
    "\n",
    "## Exercise 8  \n",
    "Write a program that calculates the surface area and volume of a sphere given its radius (r).  \n",
    "  \n",
    "\n",
    "$\n",
    "\\text{Area} = 4 · \\pi · r^2\n",
    "$\n",
    "\n",
    "$\n",
    "\\text{Volume} = \\frac{4}{3} · \\pi · r^3\n",
    "$\n",
    "\n",
    "To use the constant PI, follow these steps:  \n",
    "```python\n",
    "import math\n",
    "print(math.pi)\n",
    "```\n"
   ]
  },
  {
   "cell_type": "markdown",
   "metadata": {},
   "source": [
    "\n",
    "## Exercise 9  \n",
    "Write a program that calculates the surface area and volume of a cylinder given its radius (r) and height (h).\n",
    "\n",
    "$\n",
    "\\text{Surface Area} = 2 · \\pi · r · (r + h)\n",
    "$\n",
    "\n",
    "$\n",
    "\\text{Volume} = \\pi · r^2 · h\n",
    "$\n"
   ]
  },
  {
   "cell_type": "markdown",
   "metadata": {},
   "source": [
    "\n",
    "## Exercise 10  \n",
    "Write a program that asks the user for a value (x) and performs the following calculation:\n",
    "\n",
    "$\n",
    "y = \\frac{1}{x+\\frac{1}{x+\\frac{1}{x + \\frac{1}{x}}}}\n",
    "$\n",
    "  \n",
    "You can test your program with these values:  \n",
    "\n",
    "| x  | y                    |\n",
    "|----|----------------------|\n",
    "| 1  | 0.6000000000000001   |\n",
    "| 10 | 0.09901951266867294  |\n",
    "| 100| 0.009999000199950014 |\n",
    "| -5 | -0.19258202567760344 |\n"
   ]
  },
  {
   "cell_type": "markdown",
   "metadata": {},
   "source": [
    "\n",
    "## Exercise 11  \n",
    "Write a program that, given a start time for an event and its duration (3 values: hour, minutes, and duration in minutes), calculates the event’s end time. Don’t worry about invalid inputs like incorrect hours.  \n",
    "TIP: Use the modulo operator (`%`).\n",
    "\n",
    "For example:\n",
    "- If the event starts at 15:24 and lasts 15 minutes, it will end at 15:39. \n",
    "- If the event starts at 22:30 and lasts 80 minutes, it will end at 23:50. \n",
    "- If it starts at 23:30 and lasts 80 minutes, it will end at 00:50.\n",
    "\n",
    "You need to ask the user for 3 inputs: start hour, start minutes, and duration in minutes, in a separate input for each value."
   ]
  }
 ],
 "metadata": {
  "kernelspec": {
   "display_name": "Python 3",
   "language": "python",
   "name": "python3"
  },
  "language_info": {
   "codemirror_mode": {
    "name": "ipython",
    "version": 3
   },
   "file_extension": ".py",
   "mimetype": "text/x-python",
   "name": "python",
   "nbconvert_exporter": "python",
   "pygments_lexer": "ipython3",
   "version": "3.13.7"
  },
  "orig_nbformat": 4
 },
 "nbformat": 4,
 "nbformat_minor": 2
}
