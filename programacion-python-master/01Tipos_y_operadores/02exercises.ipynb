{
 "cells": [
  {
   "cell_type": "markdown",
   "id": "9f81867a",
   "metadata": {},
   "source": [
    "### Exercise 1\n",
    "\n",
    "Write a single line of code, using the `print()` function as well as newline and escape characters, to obtain this three-line output.\n",
    "\n",
    "```python\n",
    "\"Estoy\"\n",
    "\"\"aprendiendo\"\"\n",
    "\"\"\"Python\"\"\"\n",
    "```"
   ]
  }
 ],
 "metadata": {
  "language_info": {
   "name": "python"
  }
 },
 "nbformat": 4,
 "nbformat_minor": 5
}
